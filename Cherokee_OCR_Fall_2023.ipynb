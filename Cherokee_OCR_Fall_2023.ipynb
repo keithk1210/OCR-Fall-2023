{
  "cells": [
    {
      "cell_type": "markdown",
      "metadata": {
        "id": "view-in-github",
        "colab_type": "text"
      },
      "source": [
        "<a href=\"https://colab.research.google.com/github/keithk1210/OCR-Fall-2023/blob/main/Cherokee_OCR_Fall_2023.ipynb\" target=\"_parent\"><img src=\"https://colab.research.google.com/assets/colab-badge.svg\" alt=\"Open In Colab\"/></a>"
      ]
    },
    {
      "cell_type": "markdown",
      "metadata": {
        "id": "gFmaQCKpk5Z7"
      },
      "source": [
        "Install dependencies"
      ]
    },
    {
      "cell_type": "code",
      "execution_count": null,
      "metadata": {
        "id": "AUZI_UMoPx6X"
      },
      "outputs": [],
      "source": [
        "!sudo apt install tesseract-ocr\n",
        "!pip install pytesseract"
      ]
    },
    {
      "cell_type": "code",
      "execution_count": null,
      "metadata": {
        "id": "y5ywWaG7NI7z"
      },
      "outputs": [],
      "source": [
        "import cv2\n",
        "import numpy as np\n",
        "import osgeo_utils\n",
        "import pytesseract\n",
        "import os\n",
        "import re\n",
        "import csv\n",
        "\n",
        "\n",
        "from PIL import ImageFont, ImageDraw, Image\n",
        "from langdetect import detect\n",
        "from pytesseract import Output\n",
        "from google.colab.patches import cv2_imshow\n",
        "from imutils.object_detection import non_max_suppression"
      ]
    },
    {
      "cell_type": "code",
      "execution_count": null,
      "metadata": {
        "id": "JchnnDYW1Ae-"
      },
      "outputs": [],
      "source": [
        "!mkdir tessdata\n",
        "!wget -O ./tessdata/chr.traineddata https://github.com/tesseract-ocr/tessdata/blob/main/chr.traineddata?raw=true\n",
        "!wget -O ./tessdata/eng.traineddata https://github.com/tesseract-ocr/tessdata/blob/main/eng.traineddata?raw=true"
      ]
    },
    {
      "cell_type": "code",
      "execution_count": null,
      "metadata": {
        "id": "VptLo_lvQWAT"
      },
      "outputs": [],
      "source": [
        "from google.colab import drive\n",
        "drive.mount('/content/drive')"
      ]
    },
    {
      "cell_type": "code",
      "source": [
        "def bounding_box(result, draw, i, color = (255,100,0)):\n",
        "  x = result['left'][i]\n",
        "  y = result['top'][i]\n",
        "  w = result['width'][i]\n",
        "  h = result['height'][i]\n",
        "\n",
        "  draw.rectangle((x, y, x + w, y + h), outline=color, width=2)"
      ],
      "metadata": {
        "id": "9HigQt_COnKI"
      },
      "execution_count": null,
      "outputs": []
    },
    {
      "cell_type": "code",
      "source": [
        "while True:\n",
        "  input = input(\"Show output? (Y/N) \")\n",
        "  show_output = -1\n",
        "  if input.upper() == 'Y':\n",
        "    show_output = True\n",
        "    break\n",
        "  elif input.upper() == 'N':\n",
        "    show_output = False\n",
        "    break\n",
        "  else:\n",
        "    print(\"Incorrect input, try again\")\n",
        "dir = input(\"Directory: \")\n",
        "csv_file_path = input(\"CSV file path: \")"
      ],
      "metadata": {
        "id": "cc3xJuCrNdfB"
      },
      "execution_count": null,
      "outputs": []
    },
    {
      "cell_type": "code",
      "execution_count": null,
      "metadata": {
        "id": "kxF_cpvjObpI"
      },
      "outputs": [],
      "source": [
        "\n",
        "config_tesseract = \"--tessdata-dir tessdata --psm 3 chr\"\n",
        "csv_file_path = '/content/drive/MyDrive/OCR_Output/service-ll-llscd-14021571-14021571.csv - Sheet1.csv'\n",
        "data = [\n",
        "    ['Filename','Cherokee']\n",
        "]\n",
        "original_images = []\n",
        "images = []\n",
        "j = 0\n",
        "dir_len = len(os.listdir(dir))\n",
        "for image in os.listdir(dir):\n",
        "  print(j, \"/\", dir_len)\n",
        "  img = cv2.imread(dir + \"/\" + image)\n",
        "  original = img.copy()\n",
        "  H = img.shape[0]\n",
        "  W = img.shape[1]\n",
        "  width, height = 320, 320\n",
        "  proportion_W = W / float(width)\n",
        "  proportion_H = H / float(height)\n",
        "\n",
        "  value, img = cv2.threshold(img, 200, 255, cv2.THRESH_BINARY)\n",
        "  if show_output:\n",
        "    cv2_imshow(img)\n",
        "  original_images.append(img)\n",
        "  #img = cv2.resize(img, (width, height))\n",
        "  H = img.shape[0]\n",
        "  W = img.shape[1]\n",
        "  images.append(img)\n",
        "  min_confidence = 40\n",
        "  img_copy = img.copy()\n",
        "  cv2_im_rgb = cv2.cvtColor(img_copy,cv2.COLOR_BGR2RGB)\n",
        "  pil_im = Image.fromarray(cv2_im_rgb)\n",
        "  draw = ImageDraw.Draw(pil_im)\n",
        "  font = ImageFont.truetype(\"/content/drive/MyDrive/NotoSansCherokee-VariableFont_wght.ttf\",20)\n",
        "  result = pytesseract.image_to_data(img, config=config_tesseract, lang='chr', output_type=Output.DICT)\n",
        "  chr_text = ''\n",
        "  for i in range(0, len(result['text'])):\n",
        "    confidence = int(result['conf'][i])\n",
        "    if confidence > min_confidence:\n",
        "      x, y = bounding_box(result, draw, i)\n",
        "      text = result['text'][i]\n",
        "      draw.text((x, y-20), text, font=font,fill=(0, 0, 255, 255))\n",
        "      if not text.isdigit():\n",
        "        chr_text += text\n",
        "  data.append([image,chr_text])\n",
        "  cv2_im_processed = cv2.cvtColor(np.array(pil_im), cv2.COLOR_RGB2BGR)\n",
        "  #cv2_imshow(cv2_im_processed)\n",
        "  j += 1\n",
        "print(data)\n",
        "with open(csv_file_path, 'w', newline='') as csvfile:\n",
        "    csv_writer = csv.writer(csvfile)\n",
        "    csv_writer.writerows(data)\n",
        "\n",
        "\n"
      ]
    }
  ],
  "metadata": {
    "colab": {
      "provenance": [],
      "mount_file_id": "1j3ZIJoXiQ7k8Wd5VIbkXtYyr-qVa_bqG",
      "authorship_tag": "ABX9TyPKikKBMizdw3X1aIx+50OV",
      "include_colab_link": true
    },
    "kernelspec": {
      "display_name": "Python 3",
      "name": "python3"
    },
    "language_info": {
      "name": "python"
    }
  },
  "nbformat": 4,
  "nbformat_minor": 0
}